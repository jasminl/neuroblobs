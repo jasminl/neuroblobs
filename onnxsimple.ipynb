{
  "nbformat": 4,
  "nbformat_minor": 0,
  "metadata": {
    "colab": {
      "provenance": [],
      "authorship_tag": "ABX9TyMa91ZLwh0Pq8HPJO7ABq1I",
      "include_colab_link": true
    },
    "kernelspec": {
      "name": "python3",
      "display_name": "Python 3"
    },
    "language_info": {
      "name": "python"
    }
  },
  "cells": [
    {
      "cell_type": "markdown",
      "metadata": {
        "id": "view-in-github",
        "colab_type": "text"
      },
      "source": [
        "<a href=\"https://colab.research.google.com/github/jasminl/neuroblobs/blob/master/onnxsimple.ipynb\" target=\"_parent\"><img src=\"https://colab.research.google.com/assets/colab-badge.svg\" alt=\"Open In Colab\"/></a>"
      ]
    },
    {
      "cell_type": "code",
      "execution_count": 1,
      "metadata": {
        "id": "8J_ackDrgQm_"
      },
      "outputs": [],
      "source": [
        "# !pip install onnx\n",
        "# !pip install onnxruntime\n",
        "# !pip install onnxruntime_extensions\n",
        "# !pip install numpy"
      ]
    },
    {
      "cell_type": "code",
      "source": [
        "from onnx import helper, onnx_pb as onnx_proto, save_model\n",
        "import onnxruntime as _ort\n",
        "from onnxruntime_extensions import (\n",
        "    onnx_op, PyCustomOpDef, make_onnx_model,\n",
        "    get_library_path as _get_library_path)\n",
        "\n",
        "nodes = [helper.make_node('CustomOpOne', ['input_1', 'input_2'], ['output_1'],\n",
        "                              domain='ai.onnx.contrib'),\n",
        "             helper.make_node('CustomOpTwo', ['output_1'], ['output_2'],\n",
        "                              domain='ai.onnx.contrib'),\n",
        "         helper.make_node('Add', ['output_2', 'output_1'], ['output'])]\n",
        "\n",
        "@onnx_op(op_type=\"CustomOpOne\", inputs=[PyCustomOpDef.dt_float, PyCustomOpDef.dt_float])\n",
        "def custom_one_op(x, y):\n",
        "    return np.add(x, y)\n",
        "\n",
        "@onnx_op(op_type=\"CustomOpTwo\",outputs=[PyCustomOpDef.dt_float])\n",
        "def custom_two_op(f):\n",
        "    return np.round(f)\n",
        "\n",
        "input0 = helper.make_tensor_value_info(\n",
        "    'input_1', onnx_proto.TensorProto.FLOAT, [3, 5])\n",
        "input1 = helper.make_tensor_value_info(\n",
        "    'input_2', onnx_proto.TensorProto.FLOAT, [3, 5])\n",
        "output0 = helper.make_tensor_value_info(\n",
        "    'output', onnx_proto.TensorProto.FLOAT, [3, 5])\n",
        "\n",
        "graph = helper.make_graph(nodes, 'test0', [input0, input1], [output0])\n",
        "model = helper.make_model(\n",
        "    graph, opset_imports=[helper.make_operatorsetid('ai.onnx.contrib', 1)], ir_version=7)\n",
        "\n",
        "save_model(model, 'mymodel.onnx')\n"
      ],
      "metadata": {
        "id": "mjrMaLOpgSns"
      },
      "execution_count": 2,
      "outputs": []
    },
    {
      "cell_type": "code",
      "source": [
        "from onnx import load_model\n",
        "import numpy as np\n",
        "so = _ort.SessionOptions()\n",
        "so.register_custom_ops_library(_get_library_path())\n",
        "new_model = load_model('mymodel.onnx')\n",
        "#print(new_model)\n",
        "sess = _ort.InferenceSession(new_model.SerializeToString(), so)\n",
        "\n",
        "res = sess.run(None, {'input_1': np.random.rand(3, 5).astype(np.float32),\n",
        "                      'input_2': np.random.rand(3, 5).astype(np.float32)})\n"
      ],
      "metadata": {
        "id": "hT4myULcgqwq"
      },
      "execution_count": 3,
      "outputs": []
    },
    {
      "cell_type": "code",
      "source": [
        "print(new_model)"
      ],
      "metadata": {
        "colab": {
          "base_uri": "https://localhost:8080/"
        },
        "id": "NI_8Mv0Yk9kf",
        "outputId": "2d33426a-caf2-433b-b6eb-ab1491628476"
      },
      "execution_count": 4,
      "outputs": [
        {
          "output_type": "stream",
          "name": "stdout",
          "text": [
            "ir_version: 7\n",
            "graph {\n",
            "  node {\n",
            "    input: \"input_1\"\n",
            "    input: \"input_2\"\n",
            "    output: \"output_1\"\n",
            "    op_type: \"CustomOpOne\"\n",
            "    domain: \"ai.onnx.contrib\"\n",
            "  }\n",
            "  node {\n",
            "    input: \"output_1\"\n",
            "    output: \"output_2\"\n",
            "    op_type: \"CustomOpTwo\"\n",
            "    domain: \"ai.onnx.contrib\"\n",
            "  }\n",
            "  node {\n",
            "    input: \"output_2\"\n",
            "    input: \"output_1\"\n",
            "    output: \"output\"\n",
            "    op_type: \"Add\"\n",
            "  }\n",
            "  name: \"test0\"\n",
            "  input {\n",
            "    name: \"input_1\"\n",
            "    type {\n",
            "      tensor_type {\n",
            "        elem_type: 1\n",
            "        shape {\n",
            "          dim {\n",
            "            dim_value: 3\n",
            "          }\n",
            "          dim {\n",
            "            dim_value: 5\n",
            "          }\n",
            "        }\n",
            "      }\n",
            "    }\n",
            "  }\n",
            "  input {\n",
            "    name: \"input_2\"\n",
            "    type {\n",
            "      tensor_type {\n",
            "        elem_type: 1\n",
            "        shape {\n",
            "          dim {\n",
            "            dim_value: 3\n",
            "          }\n",
            "          dim {\n",
            "            dim_value: 5\n",
            "          }\n",
            "        }\n",
            "      }\n",
            "    }\n",
            "  }\n",
            "  output {\n",
            "    name: \"output\"\n",
            "    type {\n",
            "      tensor_type {\n",
            "        elem_type: 1\n",
            "        shape {\n",
            "          dim {\n",
            "            dim_value: 3\n",
            "          }\n",
            "          dim {\n",
            "            dim_value: 5\n",
            "          }\n",
            "        }\n",
            "      }\n",
            "    }\n",
            "  }\n",
            "}\n",
            "opset_import {\n",
            "  domain: \"ai.onnx.contrib\"\n",
            "  version: 1\n",
            "}\n",
            "\n"
          ]
        }
      ]
    }
  ]
}